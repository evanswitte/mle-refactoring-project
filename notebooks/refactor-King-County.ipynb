{
 "cells": [
  {
   "cell_type": "code",
   "execution_count": 6,
   "metadata": {},
   "outputs": [],
   "source": [
    "# Basic imports\n",
    "import pandas as pd\n",
    "import numpy as np\n",
    "\n",
    "# Visualization libraries\n",
    "import matplotlib.pyplot as plt\n",
    "import seaborn as sns\n",
    "import plotly.express as px\n",
    "import plotly.graph_objects as go\n",
    "\n",
    "# Machine Learning libraries\n",
    "from sklearn.model_selection import train_test_split\n",
    "from sklearn.linear_model import LinearRegression\n",
    "from sklearn.metrics import  r2_score\n",
    "from sklearn.preprocessing import PolynomialFeatures\n",
    "from sklearn.linear_model import ElasticNet\n",
    "from sklearn.model_selection import GridSearchCV\n",
    "from sklearn.preprocessing import StandardScaler\n",
    "\n",
    "from sklearn.base import BaseEstimator, TransformerMixin"
   ]
  },
  {
   "cell_type": "code",
   "execution_count": 7,
   "metadata": {},
   "outputs": [],
   "source": [
    "# Loading of the dataset via pandas\n",
    "kc_data = pd.read_csv(\"../data/King_County_House_prices_dataset.csv\")"
   ]
  },
  {
   "cell_type": "code",
   "execution_count": 5,
   "metadata": {},
   "outputs": [
    {
     "name": "stdout",
     "output_type": "stream",
     "text": [
      "<class 'pandas.core.frame.DataFrame'>\n",
      "RangeIndex: 21597 entries, 0 to 21596\n",
      "Data columns (total 21 columns):\n",
      " #   Column         Non-Null Count  Dtype  \n",
      "---  ------         --------------  -----  \n",
      " 0   id             21597 non-null  int64  \n",
      " 1   date           21597 non-null  object \n",
      " 2   price          21597 non-null  float64\n",
      " 3   bedrooms       21597 non-null  int64  \n",
      " 4   bathrooms      21597 non-null  float64\n",
      " 5   sqft_living    21597 non-null  int64  \n",
      " 6   sqft_lot       21597 non-null  int64  \n",
      " 7   floors         21597 non-null  float64\n",
      " 8   waterfront     19221 non-null  float64\n",
      " 9   view           21534 non-null  float64\n",
      " 10  condition      21597 non-null  int64  \n",
      " 11  grade          21597 non-null  int64  \n",
      " 12  sqft_above     21597 non-null  int64  \n",
      " 13  sqft_basement  21597 non-null  object \n",
      " 14  yr_built       21597 non-null  int64  \n",
      " 15  yr_renovated   17755 non-null  float64\n",
      " 16  zipcode        21597 non-null  int64  \n",
      " 17  lat            21597 non-null  float64\n",
      " 18  long           21597 non-null  float64\n",
      " 19  sqft_living15  21597 non-null  int64  \n",
      " 20  sqft_lot15     21597 non-null  int64  \n",
      "dtypes: float64(8), int64(11), object(2)\n",
      "memory usage: 3.5+ MB\n"
     ]
    }
   ],
   "source": [
    "kc_data.info()"
   ]
  },
  {
   "attachments": {},
   "cell_type": "markdown",
   "metadata": {},
   "source": [
    "## Data Cleaning\n"
   ]
  },
  {
   "attachments": {},
   "cell_type": "markdown",
   "metadata": {},
   "source": [
    "#### Bedrooms and bathrooms"
   ]
  },
  {
   "cell_type": "code",
   "execution_count": 8,
   "metadata": {},
   "outputs": [],
   "source": [
    "def bath_bed_ratio_outlier(df):\n",
    "    df.copy()\n",
    "    df[\"bath_bed_ratio\"] = df[\"bathrooms\"] / df[\"bedrooms\"]\n",
    "    for idx, ratio in enumerate(df[\"bath_bed_ratio\"]):\n",
    "        if ratio >= 2:\n",
    "            df.drop(idx, inplace=True)\n",
    "        elif ratio <= 0.10:\n",
    "            df.drop(idx, inplace=True)\n",
    "    return df"
   ]
  },
  {
   "cell_type": "code",
   "execution_count": 9,
   "metadata": {},
   "outputs": [],
   "source": [
    "class BathBedRoomTransformer(BaseEstimator, TransformerMixin):\n",
    "    def fit(self, X, y=None):\n",
    "        return self\n",
    "    \n",
    "\n",
    "    def transform(self, X, y=None):\n",
    "        X.copy()\n",
    "        X[\"bath_bed_ratio\"] = X[\"bathrooms\"] / X[\"bedrooms\"]\n",
    "        for idx, ratio in enumerate(X[\"bath_bed_ratio\"]):\n",
    "            if ratio >= 2:\n",
    "                X.drop(idx, inplace=True)\n",
    "            elif ratio <= 0.10:\n",
    "                X.drop(idx, inplace=True)\n",
    "        return X"
   ]
  },
  {
   "cell_type": "code",
   "execution_count": 5,
   "metadata": {},
   "outputs": [],
   "source": [
    "kc_data.drop(15856, axis=0, inplace=True)"
   ]
  },
  {
   "attachments": {},
   "cell_type": "markdown",
   "metadata": {},
   "source": [
    "#### Sqft Basement"
   ]
  },
  {
   "cell_type": "code",
   "execution_count": 10,
   "metadata": {},
   "outputs": [],
   "source": [
    "def sqft_basement(df):\n",
    "    df.copy()\n",
    "    df[\"sqft_basement\"] = df[\"sqft_basement\"].replace(\"?\", np.nan)\n",
    "    df[\"sqft_basement\"] = df[\"sqft_basement\"].astype(float)\n",
    "    df[\"sqft_basement\"] = df[\"sqft_living\"] - df[\"sqft_above\"]\n",
    "    return df"
   ]
  },
  {
   "cell_type": "code",
   "execution_count": 11,
   "metadata": {},
   "outputs": [],
   "source": [
    "class SqftBasementTransformer(BaseEstimator, TransformerMixin):\n",
    "    def fit(self, X, y=None):\n",
    "        return self\n",
    "    \n",
    "\n",
    "    def transform(self, X, y=None):\n",
    "        X.copy()\n",
    "        X[\"sqft_basement\"] = X[\"sqft_basement\"].replace(\"?\", np.nan)\n",
    "        X[\"sqft_basement\"] = X[\"sqft_living\"] - X[\"sqft_above\"]\n",
    "        X[\"sqft_basement\"] = X[\"sqft_basement\"].astype(float)\n",
    "        return X"
   ]
  },
  {
   "cell_type": "code",
   "execution_count": 8,
   "metadata": {},
   "outputs": [],
   "source": [
    "basement_transformer = SqftBasementTransformer()\n",
    "\n",
    "kc_data = basement_transformer.fit_transform(\n",
    "    kc_data\n",
    ")"
   ]
  },
  {
   "cell_type": "markdown",
   "metadata": {},
   "source": [
    "#### Missing Values"
   ]
  },
  {
   "cell_type": "code",
   "execution_count": 12,
   "metadata": {},
   "outputs": [],
   "source": [
    "def fill_missings_view_wf(df):\n",
    "    df.copy()\n",
    "    df[\"view\"] = df[\"view\"].fillna(0)\n",
    "    df[\"waterfront\"] = df[\"waterfront\"].fillna(0)\n",
    "    return df"
   ]
  },
  {
   "cell_type": "code",
   "execution_count": 13,
   "metadata": {},
   "outputs": [],
   "source": [
    "class ViewWaterfrontTransformer(BaseEstimator, TransformerMixin):\n",
    "    def fit(self, X, y=None):\n",
    "        return self\n",
    "    \n",
    "    def transform(self,X, y=None):\n",
    "        X.copy()\n",
    "        X[\"view\"] = X[\"view\"].fillna(0)\n",
    "        X[\"waterfront\"] = X[\"waterfront\"].fillna(0)\n",
    "        return X"
   ]
  },
  {
   "cell_type": "code",
   "execution_count": 11,
   "metadata": {},
   "outputs": [],
   "source": [
    "missing_transformer = ViewWaterfrontTransformer()\n",
    "\n",
    "kc_data = missing_transformer.fit_transform(\n",
    "    kc_data\n",
    ")"
   ]
  },
  {
   "cell_type": "markdown",
   "metadata": {},
   "source": [
    "#### Last Known Change"
   ]
  },
  {
   "cell_type": "code",
   "execution_count": 14,
   "metadata": {},
   "outputs": [],
   "source": [
    "def calculate_last_change(df):\n",
    "    df.copy()\n",
    "    last_known_change = []\n",
    "    for idx, yr_re in df.yr_renovated.items():\n",
    "        if str(yr_re) == \"nan\" or yr_re == 0.0:\n",
    "            last_known_change.append(df.yr_built[idx])\n",
    "        else:\n",
    "            last_known_change.append(int(yr_re))\n",
    "    df[\"last_known_change\"] = last_known_change\n",
    "    df.drop(\"yr_renovated\", axis=1, inplace=True)\n",
    "    df.drop(\"yr_built\", axis=1, inplace=True)\n",
    "    return df"
   ]
  },
  {
   "cell_type": "code",
   "execution_count": 15,
   "metadata": {},
   "outputs": [],
   "source": [
    "class LastKnownChangeTransformer(BaseEstimator, TransformerMixin):\n",
    "    def fit(self, X, y=None):\n",
    "        return self\n",
    "    \n",
    "    def transform(self,X, y=None):\n",
    "        X.copy()\n",
    "        last_known_change = []\n",
    "        for idx, yr_re in X.yr_renovated.items():\n",
    "            if str(yr_re) == \"nan\" or yr_re == 0.0:\n",
    "                last_known_change.append(X.yr_built[idx])\n",
    "            else:\n",
    "                last_known_change.append(int(yr_re))\n",
    "        X[\"last_known_change\"] = last_known_change\n",
    "        X.drop(\"yr_renovated\", axis=1, inplace=True)\n",
    "        X.drop(\"yr_built\", axis=1, inplace=True)\n",
    "        return X"
   ]
  },
  {
   "cell_type": "code",
   "execution_count": 10,
   "metadata": {},
   "outputs": [
    {
     "ename": "NameError",
     "evalue": "name 'LastKnownChangeTransformer' is not defined",
     "output_type": "error",
     "traceback": [
      "\u001b[0;31m---------------------------------------------------------------------------\u001b[0m",
      "\u001b[0;31mNameError\u001b[0m                                 Traceback (most recent call last)",
      "Cell \u001b[0;32mIn[10], line 1\u001b[0m\n\u001b[0;32m----> 1\u001b[0m last_change_transformer \u001b[39m=\u001b[39m LastKnownChangeTransformer()\n\u001b[1;32m      3\u001b[0m kc_data \u001b[39m=\u001b[39m last_change_transformer\u001b[39m.\u001b[39mfit_transform(\n\u001b[1;32m      4\u001b[0m     kc_data\n\u001b[1;32m      5\u001b[0m )\n",
      "\u001b[0;31mNameError\u001b[0m: name 'LastKnownChangeTransformer' is not defined"
     ]
    }
   ],
   "source": [
    "last_change_transformer = LastKnownChangeTransformer()\n",
    "\n",
    "kc_data = last_change_transformer.fit_transform(\n",
    "    kc_data\n",
    ")"
   ]
  },
  {
   "cell_type": "code",
   "execution_count": 16,
   "metadata": {},
   "outputs": [],
   "source": [
    "from sklearn.pipeline import Pipeline\n",
    "\n",
    "data_cleaning_pipeline = Pipeline([\n",
    "    ('bathroom_bedroom_ratio',BathBedRoomTransformer()),\n",
    "    ('sqft_basement', SqftBasementTransformer()),\n",
    "    ('view_and_waterfront', ViewWaterfrontTransformer()),\n",
    "    ('last_known_change', LastKnownChangeTransformer())\n",
    "     ]\n",
    ")"
   ]
  },
  {
   "attachments": {},
   "cell_type": "markdown",
   "metadata": {},
   "source": [
    "## Feature Engineering"
   ]
  },
  {
   "cell_type": "code",
   "execution_count": 17,
   "metadata": {},
   "outputs": [],
   "source": [
    "class SqftPriceCreator(BaseEstimator, TransformerMixin):\n",
    "    def fit(self, X, y=None):\n",
    "        return self\n",
    "    \n",
    "    def transform(self,X, y=None):\n",
    "        X.copy()\n",
    "        X['sqft_price'] = (X['price']/(X['sqft_living'] + X['sqft_lot'])).round(2)\n",
    "        return X"
   ]
  },
  {
   "cell_type": "code",
   "execution_count": 23,
   "metadata": {},
   "outputs": [],
   "source": [
    "sqft_price_transformer = SqftPriceCreator()\n",
    "\n",
    "kc_data = sqft_price_transformer.fit_transform(\n",
    "    kc_data\n",
    ")"
   ]
  },
  {
   "attachments": {},
   "cell_type": "markdown",
   "metadata": {},
   "source": [
    "#### Distance to the beach promenade"
   ]
  },
  {
   "cell_type": "code",
   "execution_count": 18,
   "metadata": {},
   "outputs": [],
   "source": [
    "class CenterDistanceCreator(BaseEstimator, TransformerMixin):\n",
    "    def fit(self, X, y=None):\n",
    "        return self\n",
    "    \n",
    "    def transform(self,X, y=None):\n",
    "        X.copy()\n",
    "        # Absolute difference of latitude between centre and property\n",
    "        X['delta_lat'] = np.absolute(47.62774- X['lat'])\n",
    "        # Absolute difference of longitude between centre and property\n",
    "        X['delta_long'] = np.absolute(-122.24194-X['long'])\n",
    "        # Distance between centre and property\n",
    "        X['center_distance']= ((X['delta_long']* np.cos(np.radians(47.6219)))**2 \n",
    "                                   + X['delta_lat']**2)**(1/2)*2*np.pi*6378/360\n",
    "        return X"
   ]
  },
  {
   "cell_type": "code",
   "execution_count": 25,
   "metadata": {},
   "outputs": [],
   "source": [
    "center_distance_transformer = CenterDistanceCreator()\n",
    "\n",
    "kc_data = center_distance_transformer.fit_transform(\n",
    "    kc_data\n",
    ")"
   ]
  },
  {
   "attachments": {},
   "cell_type": "markdown",
   "metadata": {},
   "source": [
    "\n",
    "#### Distance to the beach promenade"
   ]
  },
  {
   "cell_type": "code",
   "execution_count": 19,
   "metadata": {},
   "outputs": [],
   "source": [
    "# This function helps us to calculate the distance between the house overlooking the seafront and the other houses.\n",
    "def dist(long, lat, ref_long, ref_lat):\n",
    "    '''dist computes the distance in km to a reference location. Input: long and lat of \n",
    "    the location of interest and ref_long and ref_lat as the long and lat of the reference location'''\n",
    "    delta_long = long - ref_long\n",
    "    delta_lat = lat - ref_lat\n",
    "    delta_long_corr = delta_long * np.cos(np.radians(ref_lat))\n",
    "    return ((delta_long_corr)**2 +(delta_lat)**2)**(1/2)*2*np.pi*6378/360"
   ]
  },
  {
   "cell_type": "code",
   "execution_count": 20,
   "metadata": {},
   "outputs": [],
   "source": [
    "class WaterDistanceCreator(BaseEstimator, TransformerMixin):\n",
    "    def fit(self, X, y=None):\n",
    "        return self\n",
    "    \n",
    "    def transform(self,X, y=None):\n",
    "        X.copy()\n",
    "        water_list= X.query('waterfront == 1')\n",
    "        \n",
    "        water_distance = []\n",
    "        # For each row in our data frame we now calculate the distance to the seafront\n",
    "        for idx, lat in X.lat.items():\n",
    "            ref_list = []\n",
    "            for i,j in zip(list(water_list.long), list(water_list.lat)):\n",
    "                ref_list.append(dist(X.long[idx], X.lat[idx],i,j).min())\n",
    "            water_distance.append(min(ref_list))\n",
    "        X['water_distance'] = water_distance\n",
    "        return X"
   ]
  },
  {
   "cell_type": "code",
   "execution_count": 42,
   "metadata": {},
   "outputs": [
    {
     "ename": "NameError",
     "evalue": "name 'WaterDistanceCreator' is not defined",
     "output_type": "error",
     "traceback": [
      "\u001b[0;31m---------------------------------------------------------------------------\u001b[0m",
      "\u001b[0;31mNameError\u001b[0m                                 Traceback (most recent call last)",
      "Cell \u001b[0;32mIn[42], line 1\u001b[0m\n\u001b[0;32m----> 1\u001b[0m water_distance_transformer \u001b[39m=\u001b[39m WaterDistanceCreator()\n\u001b[1;32m      3\u001b[0m kc_data \u001b[39m=\u001b[39m water_distance_transformer\u001b[39m.\u001b[39mfit_transform(\n\u001b[1;32m      4\u001b[0m     kc_data\n\u001b[1;32m      5\u001b[0m )\n",
      "\u001b[0;31mNameError\u001b[0m: name 'WaterDistanceCreator' is not defined"
     ]
    }
   ],
   "source": [
    "water_distance_transformer = WaterDistanceCreator()\n",
    "\n",
    "kc_data = water_distance_transformer.fit_transform(\n",
    "    kc_data\n",
    ")"
   ]
  },
  {
   "cell_type": "code",
   "execution_count": 21,
   "metadata": {},
   "outputs": [],
   "source": [
    "class DropNoPredictionValues(BaseEstimator, TransformerMixin):\n",
    "    def fit(self, X, y=None):\n",
    "        return self\n",
    "    \n",
    "    def transform(self,X, y=None):\n",
    "        X.copy()\n",
    "        drop_lst = ['sqft_price', 'date', 'delta_lat', 'delta_long','bath_bed_ratio']\n",
    "        features_label = [x for x in X.columns if x not in drop_lst]\n",
    "        \n",
    "        return X[features_label]\n",
    "        "
   ]
  },
  {
   "cell_type": "code",
   "execution_count": 22,
   "metadata": {},
   "outputs": [],
   "source": [
    "from sklearn.pipeline import Pipeline\n",
    "\n",
    "feature_engineering_pipeline = Pipeline([\n",
    "    ('sqft_price',SqftPriceCreator()),\n",
    "    ('center_distance', CenterDistanceCreator()),\n",
    "    ('water_distance', WaterDistanceCreator()),\n",
    "    ('no_pred_values', DropNoPredictionValues())\n",
    "     ]\n",
    ")"
   ]
  },
  {
   "cell_type": "code",
   "execution_count": 37,
   "metadata": {},
   "outputs": [
    {
     "data": {
      "text/html": [
       "<div>\n",
       "<style scoped>\n",
       "    .dataframe tbody tr th:only-of-type {\n",
       "        vertical-align: middle;\n",
       "    }\n",
       "\n",
       "    .dataframe tbody tr th {\n",
       "        vertical-align: top;\n",
       "    }\n",
       "\n",
       "    .dataframe thead th {\n",
       "        text-align: right;\n",
       "    }\n",
       "</style>\n",
       "<table border=\"1\" class=\"dataframe\">\n",
       "  <thead>\n",
       "    <tr style=\"text-align: right;\">\n",
       "      <th></th>\n",
       "      <th>0</th>\n",
       "      <th>1</th>\n",
       "    </tr>\n",
       "  </thead>\n",
       "  <tbody>\n",
       "    <tr>\n",
       "      <th>0</th>\n",
       "      <td>sqft_basement</td>\n",
       "      <td>?</td>\n",
       "    </tr>\n",
       "  </tbody>\n",
       "</table>\n",
       "</div>"
      ],
      "text/plain": [
       "               0  1\n",
       "0  sqft_basement  ?"
      ]
     },
     "execution_count": 37,
     "metadata": {},
     "output_type": "execute_result"
    }
   ],
   "source": [
    "pd.DataFrame([['sqft_basement', '?']])"
   ]
  },
  {
   "cell_type": "code",
   "execution_count": 23,
   "metadata": {},
   "outputs": [
    {
     "data": {
      "text/html": [
       "<style>#sk-container-id-1 {color: black;background-color: white;}#sk-container-id-1 pre{padding: 0;}#sk-container-id-1 div.sk-toggleable {background-color: white;}#sk-container-id-1 label.sk-toggleable__label {cursor: pointer;display: block;width: 100%;margin-bottom: 0;padding: 0.3em;box-sizing: border-box;text-align: center;}#sk-container-id-1 label.sk-toggleable__label-arrow:before {content: \"▸\";float: left;margin-right: 0.25em;color: #696969;}#sk-container-id-1 label.sk-toggleable__label-arrow:hover:before {color: black;}#sk-container-id-1 div.sk-estimator:hover label.sk-toggleable__label-arrow:before {color: black;}#sk-container-id-1 div.sk-toggleable__content {max-height: 0;max-width: 0;overflow: hidden;text-align: left;background-color: #f0f8ff;}#sk-container-id-1 div.sk-toggleable__content pre {margin: 0.2em;color: black;border-radius: 0.25em;background-color: #f0f8ff;}#sk-container-id-1 input.sk-toggleable__control:checked~div.sk-toggleable__content {max-height: 200px;max-width: 100%;overflow: auto;}#sk-container-id-1 input.sk-toggleable__control:checked~label.sk-toggleable__label-arrow:before {content: \"▾\";}#sk-container-id-1 div.sk-estimator input.sk-toggleable__control:checked~label.sk-toggleable__label {background-color: #d4ebff;}#sk-container-id-1 div.sk-label input.sk-toggleable__control:checked~label.sk-toggleable__label {background-color: #d4ebff;}#sk-container-id-1 input.sk-hidden--visually {border: 0;clip: rect(1px 1px 1px 1px);clip: rect(1px, 1px, 1px, 1px);height: 1px;margin: -1px;overflow: hidden;padding: 0;position: absolute;width: 1px;}#sk-container-id-1 div.sk-estimator {font-family: monospace;background-color: #f0f8ff;border: 1px dotted black;border-radius: 0.25em;box-sizing: border-box;margin-bottom: 0.5em;}#sk-container-id-1 div.sk-estimator:hover {background-color: #d4ebff;}#sk-container-id-1 div.sk-parallel-item::after {content: \"\";width: 100%;border-bottom: 1px solid gray;flex-grow: 1;}#sk-container-id-1 div.sk-label:hover label.sk-toggleable__label {background-color: #d4ebff;}#sk-container-id-1 div.sk-serial::before {content: \"\";position: absolute;border-left: 1px solid gray;box-sizing: border-box;top: 0;bottom: 0;left: 50%;z-index: 0;}#sk-container-id-1 div.sk-serial {display: flex;flex-direction: column;align-items: center;background-color: white;padding-right: 0.2em;padding-left: 0.2em;position: relative;}#sk-container-id-1 div.sk-item {position: relative;z-index: 1;}#sk-container-id-1 div.sk-parallel {display: flex;align-items: stretch;justify-content: center;background-color: white;position: relative;}#sk-container-id-1 div.sk-item::before, #sk-container-id-1 div.sk-parallel-item::before {content: \"\";position: absolute;border-left: 1px solid gray;box-sizing: border-box;top: 0;bottom: 0;left: 50%;z-index: -1;}#sk-container-id-1 div.sk-parallel-item {display: flex;flex-direction: column;z-index: 1;position: relative;background-color: white;}#sk-container-id-1 div.sk-parallel-item:first-child::after {align-self: flex-end;width: 50%;}#sk-container-id-1 div.sk-parallel-item:last-child::after {align-self: flex-start;width: 50%;}#sk-container-id-1 div.sk-parallel-item:only-child::after {width: 0;}#sk-container-id-1 div.sk-dashed-wrapped {border: 1px dashed gray;margin: 0 0.4em 0.5em 0.4em;box-sizing: border-box;padding-bottom: 0.4em;background-color: white;}#sk-container-id-1 div.sk-label label {font-family: monospace;font-weight: bold;display: inline-block;line-height: 1.2em;}#sk-container-id-1 div.sk-label-container {text-align: center;}#sk-container-id-1 div.sk-container {/* jupyter's `normalize.less` sets `[hidden] { display: none; }` but bootstrap.min.css set `[hidden] { display: none !important; }` so we also need the `!important` here to be able to override the default hidden behavior on the sphinx rendered scikit-learn.org. See: https://github.com/scikit-learn/scikit-learn/issues/21755 */display: inline-block !important;position: relative;}#sk-container-id-1 div.sk-text-repr-fallback {display: none;}</style><div id=\"sk-container-id-1\" class=\"sk-top-container\"><div class=\"sk-text-repr-fallback\"><pre>Pipeline(steps=[(&#x27;sqft_price&#x27;, SqftPriceCreator()),\n",
       "                (&#x27;center_distance&#x27;, CenterDistanceCreator()),\n",
       "                (&#x27;water_distance&#x27;, WaterDistanceCreator()),\n",
       "                (&#x27;no_pred_values&#x27;, DropNoPredictionValues())])</pre><b>In a Jupyter environment, please rerun this cell to show the HTML representation or trust the notebook. <br />On GitHub, the HTML representation is unable to render, please try loading this page with nbviewer.org.</b></div><div class=\"sk-container\" hidden><div class=\"sk-item sk-dashed-wrapped\"><div class=\"sk-label-container\"><div class=\"sk-label sk-toggleable\"><input class=\"sk-toggleable__control sk-hidden--visually\" id=\"sk-estimator-id-1\" type=\"checkbox\" ><label for=\"sk-estimator-id-1\" class=\"sk-toggleable__label sk-toggleable__label-arrow\">Pipeline</label><div class=\"sk-toggleable__content\"><pre>Pipeline(steps=[(&#x27;sqft_price&#x27;, SqftPriceCreator()),\n",
       "                (&#x27;center_distance&#x27;, CenterDistanceCreator()),\n",
       "                (&#x27;water_distance&#x27;, WaterDistanceCreator()),\n",
       "                (&#x27;no_pred_values&#x27;, DropNoPredictionValues())])</pre></div></div></div><div class=\"sk-serial\"><div class=\"sk-item\"><div class=\"sk-estimator sk-toggleable\"><input class=\"sk-toggleable__control sk-hidden--visually\" id=\"sk-estimator-id-2\" type=\"checkbox\" ><label for=\"sk-estimator-id-2\" class=\"sk-toggleable__label sk-toggleable__label-arrow\">SqftPriceCreator</label><div class=\"sk-toggleable__content\"><pre>SqftPriceCreator()</pre></div></div></div><div class=\"sk-item\"><div class=\"sk-estimator sk-toggleable\"><input class=\"sk-toggleable__control sk-hidden--visually\" id=\"sk-estimator-id-3\" type=\"checkbox\" ><label for=\"sk-estimator-id-3\" class=\"sk-toggleable__label sk-toggleable__label-arrow\">CenterDistanceCreator</label><div class=\"sk-toggleable__content\"><pre>CenterDistanceCreator()</pre></div></div></div><div class=\"sk-item\"><div class=\"sk-estimator sk-toggleable\"><input class=\"sk-toggleable__control sk-hidden--visually\" id=\"sk-estimator-id-4\" type=\"checkbox\" ><label for=\"sk-estimator-id-4\" class=\"sk-toggleable__label sk-toggleable__label-arrow\">WaterDistanceCreator</label><div class=\"sk-toggleable__content\"><pre>WaterDistanceCreator()</pre></div></div></div><div class=\"sk-item\"><div class=\"sk-estimator sk-toggleable\"><input class=\"sk-toggleable__control sk-hidden--visually\" id=\"sk-estimator-id-5\" type=\"checkbox\" ><label for=\"sk-estimator-id-5\" class=\"sk-toggleable__label sk-toggleable__label-arrow\">DropNoPredictionValues</label><div class=\"sk-toggleable__content\"><pre>DropNoPredictionValues()</pre></div></div></div></div></div></div></div>"
      ],
      "text/plain": [
       "Pipeline(steps=[('sqft_price', SqftPriceCreator()),\n",
       "                ('center_distance', CenterDistanceCreator()),\n",
       "                ('water_distance', WaterDistanceCreator()),\n",
       "                ('no_pred_values', DropNoPredictionValues())])"
      ]
     },
     "execution_count": 23,
     "metadata": {},
     "output_type": "execute_result"
    }
   ],
   "source": [
    "feature_engineering_pipeline"
   ]
  },
  {
   "cell_type": "markdown",
   "metadata": {},
   "source": [
    "### Preprocessor Pipeline"
   ]
  },
  {
   "cell_type": "code",
   "execution_count": 24,
   "metadata": {},
   "outputs": [],
   "source": [
    "preprocessor_pipe = Pipeline([\n",
    "    ('data_cleaning', data_cleaning_pipeline),\n",
    "    ('feature_engineering', feature_engineering_pipeline),\n",
    "])"
   ]
  },
  {
   "cell_type": "code",
   "execution_count": 25,
   "metadata": {},
   "outputs": [
    {
     "data": {
      "text/html": [
       "<style>#sk-container-id-2 {color: black;background-color: white;}#sk-container-id-2 pre{padding: 0;}#sk-container-id-2 div.sk-toggleable {background-color: white;}#sk-container-id-2 label.sk-toggleable__label {cursor: pointer;display: block;width: 100%;margin-bottom: 0;padding: 0.3em;box-sizing: border-box;text-align: center;}#sk-container-id-2 label.sk-toggleable__label-arrow:before {content: \"▸\";float: left;margin-right: 0.25em;color: #696969;}#sk-container-id-2 label.sk-toggleable__label-arrow:hover:before {color: black;}#sk-container-id-2 div.sk-estimator:hover label.sk-toggleable__label-arrow:before {color: black;}#sk-container-id-2 div.sk-toggleable__content {max-height: 0;max-width: 0;overflow: hidden;text-align: left;background-color: #f0f8ff;}#sk-container-id-2 div.sk-toggleable__content pre {margin: 0.2em;color: black;border-radius: 0.25em;background-color: #f0f8ff;}#sk-container-id-2 input.sk-toggleable__control:checked~div.sk-toggleable__content {max-height: 200px;max-width: 100%;overflow: auto;}#sk-container-id-2 input.sk-toggleable__control:checked~label.sk-toggleable__label-arrow:before {content: \"▾\";}#sk-container-id-2 div.sk-estimator input.sk-toggleable__control:checked~label.sk-toggleable__label {background-color: #d4ebff;}#sk-container-id-2 div.sk-label input.sk-toggleable__control:checked~label.sk-toggleable__label {background-color: #d4ebff;}#sk-container-id-2 input.sk-hidden--visually {border: 0;clip: rect(1px 1px 1px 1px);clip: rect(1px, 1px, 1px, 1px);height: 1px;margin: -1px;overflow: hidden;padding: 0;position: absolute;width: 1px;}#sk-container-id-2 div.sk-estimator {font-family: monospace;background-color: #f0f8ff;border: 1px dotted black;border-radius: 0.25em;box-sizing: border-box;margin-bottom: 0.5em;}#sk-container-id-2 div.sk-estimator:hover {background-color: #d4ebff;}#sk-container-id-2 div.sk-parallel-item::after {content: \"\";width: 100%;border-bottom: 1px solid gray;flex-grow: 1;}#sk-container-id-2 div.sk-label:hover label.sk-toggleable__label {background-color: #d4ebff;}#sk-container-id-2 div.sk-serial::before {content: \"\";position: absolute;border-left: 1px solid gray;box-sizing: border-box;top: 0;bottom: 0;left: 50%;z-index: 0;}#sk-container-id-2 div.sk-serial {display: flex;flex-direction: column;align-items: center;background-color: white;padding-right: 0.2em;padding-left: 0.2em;position: relative;}#sk-container-id-2 div.sk-item {position: relative;z-index: 1;}#sk-container-id-2 div.sk-parallel {display: flex;align-items: stretch;justify-content: center;background-color: white;position: relative;}#sk-container-id-2 div.sk-item::before, #sk-container-id-2 div.sk-parallel-item::before {content: \"\";position: absolute;border-left: 1px solid gray;box-sizing: border-box;top: 0;bottom: 0;left: 50%;z-index: -1;}#sk-container-id-2 div.sk-parallel-item {display: flex;flex-direction: column;z-index: 1;position: relative;background-color: white;}#sk-container-id-2 div.sk-parallel-item:first-child::after {align-self: flex-end;width: 50%;}#sk-container-id-2 div.sk-parallel-item:last-child::after {align-self: flex-start;width: 50%;}#sk-container-id-2 div.sk-parallel-item:only-child::after {width: 0;}#sk-container-id-2 div.sk-dashed-wrapped {border: 1px dashed gray;margin: 0 0.4em 0.5em 0.4em;box-sizing: border-box;padding-bottom: 0.4em;background-color: white;}#sk-container-id-2 div.sk-label label {font-family: monospace;font-weight: bold;display: inline-block;line-height: 1.2em;}#sk-container-id-2 div.sk-label-container {text-align: center;}#sk-container-id-2 div.sk-container {/* jupyter's `normalize.less` sets `[hidden] { display: none; }` but bootstrap.min.css set `[hidden] { display: none !important; }` so we also need the `!important` here to be able to override the default hidden behavior on the sphinx rendered scikit-learn.org. See: https://github.com/scikit-learn/scikit-learn/issues/21755 */display: inline-block !important;position: relative;}#sk-container-id-2 div.sk-text-repr-fallback {display: none;}</style><div id=\"sk-container-id-2\" class=\"sk-top-container\"><div class=\"sk-text-repr-fallback\"><pre>Pipeline(steps=[(&#x27;data_cleaning&#x27;,\n",
       "                 Pipeline(steps=[(&#x27;bathroom_bedroom_ratio&#x27;,\n",
       "                                  BathBedRoomTransformer()),\n",
       "                                 (&#x27;sqft_basement&#x27;, SqftBasementTransformer()),\n",
       "                                 (&#x27;view_and_waterfront&#x27;,\n",
       "                                  ViewWaterfrontTransformer()),\n",
       "                                 (&#x27;last_known_change&#x27;,\n",
       "                                  LastKnownChangeTransformer())])),\n",
       "                (&#x27;feature_engineering&#x27;,\n",
       "                 Pipeline(steps=[(&#x27;sqft_price&#x27;, SqftPriceCreator()),\n",
       "                                 (&#x27;center_distance&#x27;, CenterDistanceCreator()),\n",
       "                                 (&#x27;water_distance&#x27;, WaterDistanceCreator()),\n",
       "                                 (&#x27;no_pred_values&#x27;,\n",
       "                                  DropNoPredictionValues())]))])</pre><b>In a Jupyter environment, please rerun this cell to show the HTML representation or trust the notebook. <br />On GitHub, the HTML representation is unable to render, please try loading this page with nbviewer.org.</b></div><div class=\"sk-container\" hidden><div class=\"sk-item sk-dashed-wrapped\"><div class=\"sk-label-container\"><div class=\"sk-label sk-toggleable\"><input class=\"sk-toggleable__control sk-hidden--visually\" id=\"sk-estimator-id-6\" type=\"checkbox\" ><label for=\"sk-estimator-id-6\" class=\"sk-toggleable__label sk-toggleable__label-arrow\">Pipeline</label><div class=\"sk-toggleable__content\"><pre>Pipeline(steps=[(&#x27;data_cleaning&#x27;,\n",
       "                 Pipeline(steps=[(&#x27;bathroom_bedroom_ratio&#x27;,\n",
       "                                  BathBedRoomTransformer()),\n",
       "                                 (&#x27;sqft_basement&#x27;, SqftBasementTransformer()),\n",
       "                                 (&#x27;view_and_waterfront&#x27;,\n",
       "                                  ViewWaterfrontTransformer()),\n",
       "                                 (&#x27;last_known_change&#x27;,\n",
       "                                  LastKnownChangeTransformer())])),\n",
       "                (&#x27;feature_engineering&#x27;,\n",
       "                 Pipeline(steps=[(&#x27;sqft_price&#x27;, SqftPriceCreator()),\n",
       "                                 (&#x27;center_distance&#x27;, CenterDistanceCreator()),\n",
       "                                 (&#x27;water_distance&#x27;, WaterDistanceCreator()),\n",
       "                                 (&#x27;no_pred_values&#x27;,\n",
       "                                  DropNoPredictionValues())]))])</pre></div></div></div><div class=\"sk-serial\"><div class=\"sk-item\"><div class=\"sk-label-container\"><div class=\"sk-label sk-toggleable\"><input class=\"sk-toggleable__control sk-hidden--visually\" id=\"sk-estimator-id-7\" type=\"checkbox\" ><label for=\"sk-estimator-id-7\" class=\"sk-toggleable__label sk-toggleable__label-arrow\">data_cleaning: Pipeline</label><div class=\"sk-toggleable__content\"><pre>Pipeline(steps=[(&#x27;bathroom_bedroom_ratio&#x27;, BathBedRoomTransformer()),\n",
       "                (&#x27;sqft_basement&#x27;, SqftBasementTransformer()),\n",
       "                (&#x27;view_and_waterfront&#x27;, ViewWaterfrontTransformer()),\n",
       "                (&#x27;last_known_change&#x27;, LastKnownChangeTransformer())])</pre></div></div></div><div class=\"sk-serial\"><div class=\"sk-item\"><div class=\"sk-estimator sk-toggleable\"><input class=\"sk-toggleable__control sk-hidden--visually\" id=\"sk-estimator-id-8\" type=\"checkbox\" ><label for=\"sk-estimator-id-8\" class=\"sk-toggleable__label sk-toggleable__label-arrow\">BathBedRoomTransformer</label><div class=\"sk-toggleable__content\"><pre>BathBedRoomTransformer()</pre></div></div></div><div class=\"sk-item\"><div class=\"sk-estimator sk-toggleable\"><input class=\"sk-toggleable__control sk-hidden--visually\" id=\"sk-estimator-id-9\" type=\"checkbox\" ><label for=\"sk-estimator-id-9\" class=\"sk-toggleable__label sk-toggleable__label-arrow\">SqftBasementTransformer</label><div class=\"sk-toggleable__content\"><pre>SqftBasementTransformer()</pre></div></div></div><div class=\"sk-item\"><div class=\"sk-estimator sk-toggleable\"><input class=\"sk-toggleable__control sk-hidden--visually\" id=\"sk-estimator-id-10\" type=\"checkbox\" ><label for=\"sk-estimator-id-10\" class=\"sk-toggleable__label sk-toggleable__label-arrow\">ViewWaterfrontTransformer</label><div class=\"sk-toggleable__content\"><pre>ViewWaterfrontTransformer()</pre></div></div></div><div class=\"sk-item\"><div class=\"sk-estimator sk-toggleable\"><input class=\"sk-toggleable__control sk-hidden--visually\" id=\"sk-estimator-id-11\" type=\"checkbox\" ><label for=\"sk-estimator-id-11\" class=\"sk-toggleable__label sk-toggleable__label-arrow\">LastKnownChangeTransformer</label><div class=\"sk-toggleable__content\"><pre>LastKnownChangeTransformer()</pre></div></div></div></div></div><div class=\"sk-item\"><div class=\"sk-label-container\"><div class=\"sk-label sk-toggleable\"><input class=\"sk-toggleable__control sk-hidden--visually\" id=\"sk-estimator-id-12\" type=\"checkbox\" ><label for=\"sk-estimator-id-12\" class=\"sk-toggleable__label sk-toggleable__label-arrow\">feature_engineering: Pipeline</label><div class=\"sk-toggleable__content\"><pre>Pipeline(steps=[(&#x27;sqft_price&#x27;, SqftPriceCreator()),\n",
       "                (&#x27;center_distance&#x27;, CenterDistanceCreator()),\n",
       "                (&#x27;water_distance&#x27;, WaterDistanceCreator()),\n",
       "                (&#x27;no_pred_values&#x27;, DropNoPredictionValues())])</pre></div></div></div><div class=\"sk-serial\"><div class=\"sk-item\"><div class=\"sk-estimator sk-toggleable\"><input class=\"sk-toggleable__control sk-hidden--visually\" id=\"sk-estimator-id-13\" type=\"checkbox\" ><label for=\"sk-estimator-id-13\" class=\"sk-toggleable__label sk-toggleable__label-arrow\">SqftPriceCreator</label><div class=\"sk-toggleable__content\"><pre>SqftPriceCreator()</pre></div></div></div><div class=\"sk-item\"><div class=\"sk-estimator sk-toggleable\"><input class=\"sk-toggleable__control sk-hidden--visually\" id=\"sk-estimator-id-14\" type=\"checkbox\" ><label for=\"sk-estimator-id-14\" class=\"sk-toggleable__label sk-toggleable__label-arrow\">CenterDistanceCreator</label><div class=\"sk-toggleable__content\"><pre>CenterDistanceCreator()</pre></div></div></div><div class=\"sk-item\"><div class=\"sk-estimator sk-toggleable\"><input class=\"sk-toggleable__control sk-hidden--visually\" id=\"sk-estimator-id-15\" type=\"checkbox\" ><label for=\"sk-estimator-id-15\" class=\"sk-toggleable__label sk-toggleable__label-arrow\">WaterDistanceCreator</label><div class=\"sk-toggleable__content\"><pre>WaterDistanceCreator()</pre></div></div></div><div class=\"sk-item\"><div class=\"sk-estimator sk-toggleable\"><input class=\"sk-toggleable__control sk-hidden--visually\" id=\"sk-estimator-id-16\" type=\"checkbox\" ><label for=\"sk-estimator-id-16\" class=\"sk-toggleable__label sk-toggleable__label-arrow\">DropNoPredictionValues</label><div class=\"sk-toggleable__content\"><pre>DropNoPredictionValues()</pre></div></div></div></div></div></div></div></div></div>"
      ],
      "text/plain": [
       "Pipeline(steps=[('data_cleaning',\n",
       "                 Pipeline(steps=[('bathroom_bedroom_ratio',\n",
       "                                  BathBedRoomTransformer()),\n",
       "                                 ('sqft_basement', SqftBasementTransformer()),\n",
       "                                 ('view_and_waterfront',\n",
       "                                  ViewWaterfrontTransformer()),\n",
       "                                 ('last_known_change',\n",
       "                                  LastKnownChangeTransformer())])),\n",
       "                ('feature_engineering',\n",
       "                 Pipeline(steps=[('sqft_price', SqftPriceCreator()),\n",
       "                                 ('center_distance', CenterDistanceCreator()),\n",
       "                                 ('water_distance', WaterDistanceCreator()),\n",
       "                                 ('no_pred_values',\n",
       "                                  DropNoPredictionValues())]))])"
      ]
     },
     "execution_count": 25,
     "metadata": {},
     "output_type": "execute_result"
    }
   ],
   "source": [
    "preprocessor_pipe"
   ]
  },
  {
   "cell_type": "code",
   "execution_count": 34,
   "metadata": {},
   "outputs": [],
   "source": [
    "import sys\n",
    "sys.path.insert(1,'../pipeline/')\n",
    "from preprocessing_king_county import PreprocessingKingCountyData"
   ]
  },
  {
   "cell_type": "code",
   "execution_count": 35,
   "metadata": {},
   "outputs": [],
   "source": [
    "preprocessor_pipe_skript = PreprocessingKingCountyData()"
   ]
  },
  {
   "cell_type": "code",
   "execution_count": 28,
   "metadata": {},
   "outputs": [],
   "source": [
    "kc_data_test = pd.read_csv(\"../data/King_County_House_prices_dataset.csv\")"
   ]
  },
  {
   "cell_type": "code",
   "execution_count": 33,
   "metadata": {},
   "outputs": [
    {
     "data": {
      "text/html": [
       "<div>\n",
       "<style scoped>\n",
       "    .dataframe tbody tr th:only-of-type {\n",
       "        vertical-align: middle;\n",
       "    }\n",
       "\n",
       "    .dataframe tbody tr th {\n",
       "        vertical-align: top;\n",
       "    }\n",
       "\n",
       "    .dataframe thead th {\n",
       "        text-align: right;\n",
       "    }\n",
       "</style>\n",
       "<table border=\"1\" class=\"dataframe\">\n",
       "  <thead>\n",
       "    <tr style=\"text-align: right;\">\n",
       "      <th></th>\n",
       "      <th>id</th>\n",
       "      <th>price</th>\n",
       "      <th>bedrooms</th>\n",
       "      <th>bathrooms</th>\n",
       "      <th>sqft_living</th>\n",
       "      <th>sqft_lot</th>\n",
       "      <th>floors</th>\n",
       "      <th>waterfront</th>\n",
       "      <th>view</th>\n",
       "      <th>condition</th>\n",
       "      <th>...</th>\n",
       "      <th>sqft_above</th>\n",
       "      <th>sqft_basement</th>\n",
       "      <th>zipcode</th>\n",
       "      <th>lat</th>\n",
       "      <th>long</th>\n",
       "      <th>sqft_living15</th>\n",
       "      <th>sqft_lot15</th>\n",
       "      <th>last_known_change</th>\n",
       "      <th>center_distance</th>\n",
       "      <th>water_distance</th>\n",
       "    </tr>\n",
       "  </thead>\n",
       "  <tbody>\n",
       "    <tr>\n",
       "      <th>0</th>\n",
       "      <td>7129300520</td>\n",
       "      <td>221900.0</td>\n",
       "      <td>3</td>\n",
       "      <td>1.00</td>\n",
       "      <td>1180</td>\n",
       "      <td>5650</td>\n",
       "      <td>1.0</td>\n",
       "      <td>0.0</td>\n",
       "      <td>0.0</td>\n",
       "      <td>3</td>\n",
       "      <td>...</td>\n",
       "      <td>1180</td>\n",
       "      <td>0.0</td>\n",
       "      <td>98178</td>\n",
       "      <td>47.5112</td>\n",
       "      <td>-122.257</td>\n",
       "      <td>1340</td>\n",
       "      <td>5650</td>\n",
       "      <td>1955</td>\n",
       "      <td>13.022012</td>\n",
       "      <td>0.678977</td>\n",
       "    </tr>\n",
       "    <tr>\n",
       "      <th>1</th>\n",
       "      <td>6414100192</td>\n",
       "      <td>538000.0</td>\n",
       "      <td>3</td>\n",
       "      <td>2.25</td>\n",
       "      <td>2570</td>\n",
       "      <td>7242</td>\n",
       "      <td>2.0</td>\n",
       "      <td>0.0</td>\n",
       "      <td>0.0</td>\n",
       "      <td>3</td>\n",
       "      <td>...</td>\n",
       "      <td>2170</td>\n",
       "      <td>400.0</td>\n",
       "      <td>98125</td>\n",
       "      <td>47.7210</td>\n",
       "      <td>-122.319</td>\n",
       "      <td>1690</td>\n",
       "      <td>7639</td>\n",
       "      <td>1991</td>\n",
       "      <td>11.882906</td>\n",
       "      <td>2.910551</td>\n",
       "    </tr>\n",
       "    <tr>\n",
       "      <th>2</th>\n",
       "      <td>5631500400</td>\n",
       "      <td>180000.0</td>\n",
       "      <td>2</td>\n",
       "      <td>1.00</td>\n",
       "      <td>770</td>\n",
       "      <td>10000</td>\n",
       "      <td>1.0</td>\n",
       "      <td>0.0</td>\n",
       "      <td>0.0</td>\n",
       "      <td>3</td>\n",
       "      <td>...</td>\n",
       "      <td>770</td>\n",
       "      <td>0.0</td>\n",
       "      <td>98028</td>\n",
       "      <td>47.7379</td>\n",
       "      <td>-122.233</td>\n",
       "      <td>2720</td>\n",
       "      <td>8062</td>\n",
       "      <td>1933</td>\n",
       "      <td>12.281023</td>\n",
       "      <td>2.327626</td>\n",
       "    </tr>\n",
       "    <tr>\n",
       "      <th>3</th>\n",
       "      <td>2487200875</td>\n",
       "      <td>604000.0</td>\n",
       "      <td>4</td>\n",
       "      <td>3.00</td>\n",
       "      <td>1960</td>\n",
       "      <td>5000</td>\n",
       "      <td>1.0</td>\n",
       "      <td>0.0</td>\n",
       "      <td>0.0</td>\n",
       "      <td>5</td>\n",
       "      <td>...</td>\n",
       "      <td>1050</td>\n",
       "      <td>910.0</td>\n",
       "      <td>98136</td>\n",
       "      <td>47.5208</td>\n",
       "      <td>-122.393</td>\n",
       "      <td>1360</td>\n",
       "      <td>5000</td>\n",
       "      <td>1965</td>\n",
       "      <td>16.436889</td>\n",
       "      <td>0.467532</td>\n",
       "    </tr>\n",
       "    <tr>\n",
       "      <th>4</th>\n",
       "      <td>1954400510</td>\n",
       "      <td>510000.0</td>\n",
       "      <td>3</td>\n",
       "      <td>2.00</td>\n",
       "      <td>1680</td>\n",
       "      <td>8080</td>\n",
       "      <td>1.0</td>\n",
       "      <td>0.0</td>\n",
       "      <td>0.0</td>\n",
       "      <td>3</td>\n",
       "      <td>...</td>\n",
       "      <td>1680</td>\n",
       "      <td>0.0</td>\n",
       "      <td>98074</td>\n",
       "      <td>47.6168</td>\n",
       "      <td>-122.045</td>\n",
       "      <td>1800</td>\n",
       "      <td>7503</td>\n",
       "      <td>1987</td>\n",
       "      <td>14.826499</td>\n",
       "      <td>1.726771</td>\n",
       "    </tr>\n",
       "    <tr>\n",
       "      <th>...</th>\n",
       "      <td>...</td>\n",
       "      <td>...</td>\n",
       "      <td>...</td>\n",
       "      <td>...</td>\n",
       "      <td>...</td>\n",
       "      <td>...</td>\n",
       "      <td>...</td>\n",
       "      <td>...</td>\n",
       "      <td>...</td>\n",
       "      <td>...</td>\n",
       "      <td>...</td>\n",
       "      <td>...</td>\n",
       "      <td>...</td>\n",
       "      <td>...</td>\n",
       "      <td>...</td>\n",
       "      <td>...</td>\n",
       "      <td>...</td>\n",
       "      <td>...</td>\n",
       "      <td>...</td>\n",
       "      <td>...</td>\n",
       "      <td>...</td>\n",
       "    </tr>\n",
       "    <tr>\n",
       "      <th>21592</th>\n",
       "      <td>263000018</td>\n",
       "      <td>360000.0</td>\n",
       "      <td>3</td>\n",
       "      <td>2.50</td>\n",
       "      <td>1530</td>\n",
       "      <td>1131</td>\n",
       "      <td>3.0</td>\n",
       "      <td>0.0</td>\n",
       "      <td>0.0</td>\n",
       "      <td>3</td>\n",
       "      <td>...</td>\n",
       "      <td>1530</td>\n",
       "      <td>0.0</td>\n",
       "      <td>98103</td>\n",
       "      <td>47.6993</td>\n",
       "      <td>-122.346</td>\n",
       "      <td>1530</td>\n",
       "      <td>1509</td>\n",
       "      <td>2009</td>\n",
       "      <td>11.154088</td>\n",
       "      <td>5.346761</td>\n",
       "    </tr>\n",
       "    <tr>\n",
       "      <th>21593</th>\n",
       "      <td>6600060120</td>\n",
       "      <td>400000.0</td>\n",
       "      <td>4</td>\n",
       "      <td>2.50</td>\n",
       "      <td>2310</td>\n",
       "      <td>5813</td>\n",
       "      <td>2.0</td>\n",
       "      <td>0.0</td>\n",
       "      <td>0.0</td>\n",
       "      <td>3</td>\n",
       "      <td>...</td>\n",
       "      <td>2310</td>\n",
       "      <td>0.0</td>\n",
       "      <td>98146</td>\n",
       "      <td>47.5107</td>\n",
       "      <td>-122.362</td>\n",
       "      <td>1830</td>\n",
       "      <td>7200</td>\n",
       "      <td>2014</td>\n",
       "      <td>15.839476</td>\n",
       "      <td>1.724718</td>\n",
       "    </tr>\n",
       "    <tr>\n",
       "      <th>21594</th>\n",
       "      <td>1523300141</td>\n",
       "      <td>402101.0</td>\n",
       "      <td>2</td>\n",
       "      <td>0.75</td>\n",
       "      <td>1020</td>\n",
       "      <td>1350</td>\n",
       "      <td>2.0</td>\n",
       "      <td>0.0</td>\n",
       "      <td>0.0</td>\n",
       "      <td>3</td>\n",
       "      <td>...</td>\n",
       "      <td>1020</td>\n",
       "      <td>0.0</td>\n",
       "      <td>98144</td>\n",
       "      <td>47.5944</td>\n",
       "      <td>-122.299</td>\n",
       "      <td>1020</td>\n",
       "      <td>2007</td>\n",
       "      <td>2009</td>\n",
       "      <td>5.665915</td>\n",
       "      <td>0.925361</td>\n",
       "    </tr>\n",
       "    <tr>\n",
       "      <th>21595</th>\n",
       "      <td>291310100</td>\n",
       "      <td>400000.0</td>\n",
       "      <td>3</td>\n",
       "      <td>2.50</td>\n",
       "      <td>1600</td>\n",
       "      <td>2388</td>\n",
       "      <td>2.0</td>\n",
       "      <td>0.0</td>\n",
       "      <td>0.0</td>\n",
       "      <td>3</td>\n",
       "      <td>...</td>\n",
       "      <td>1600</td>\n",
       "      <td>0.0</td>\n",
       "      <td>98027</td>\n",
       "      <td>47.5345</td>\n",
       "      <td>-122.069</td>\n",
       "      <td>1410</td>\n",
       "      <td>1287</td>\n",
       "      <td>2004</td>\n",
       "      <td>16.616144</td>\n",
       "      <td>2.402901</td>\n",
       "    </tr>\n",
       "    <tr>\n",
       "      <th>21596</th>\n",
       "      <td>1523300157</td>\n",
       "      <td>325000.0</td>\n",
       "      <td>2</td>\n",
       "      <td>0.75</td>\n",
       "      <td>1020</td>\n",
       "      <td>1076</td>\n",
       "      <td>2.0</td>\n",
       "      <td>0.0</td>\n",
       "      <td>0.0</td>\n",
       "      <td>3</td>\n",
       "      <td>...</td>\n",
       "      <td>1020</td>\n",
       "      <td>0.0</td>\n",
       "      <td>98144</td>\n",
       "      <td>47.5941</td>\n",
       "      <td>-122.299</td>\n",
       "      <td>1020</td>\n",
       "      <td>1357</td>\n",
       "      <td>2008</td>\n",
       "      <td>5.687846</td>\n",
       "      <td>0.918304</td>\n",
       "    </tr>\n",
       "  </tbody>\n",
       "</table>\n",
       "<p>21584 rows × 21 columns</p>\n",
       "</div>"
      ],
      "text/plain": [
       "               id     price  bedrooms  bathrooms  sqft_living  sqft_lot  \\\n",
       "0      7129300520  221900.0         3       1.00         1180      5650   \n",
       "1      6414100192  538000.0         3       2.25         2570      7242   \n",
       "2      5631500400  180000.0         2       1.00          770     10000   \n",
       "3      2487200875  604000.0         4       3.00         1960      5000   \n",
       "4      1954400510  510000.0         3       2.00         1680      8080   \n",
       "...           ...       ...       ...        ...          ...       ...   \n",
       "21592   263000018  360000.0         3       2.50         1530      1131   \n",
       "21593  6600060120  400000.0         4       2.50         2310      5813   \n",
       "21594  1523300141  402101.0         2       0.75         1020      1350   \n",
       "21595   291310100  400000.0         3       2.50         1600      2388   \n",
       "21596  1523300157  325000.0         2       0.75         1020      1076   \n",
       "\n",
       "       floors  waterfront  view  condition  ...  sqft_above  sqft_basement  \\\n",
       "0         1.0         0.0   0.0          3  ...        1180            0.0   \n",
       "1         2.0         0.0   0.0          3  ...        2170          400.0   \n",
       "2         1.0         0.0   0.0          3  ...         770            0.0   \n",
       "3         1.0         0.0   0.0          5  ...        1050          910.0   \n",
       "4         1.0         0.0   0.0          3  ...        1680            0.0   \n",
       "...       ...         ...   ...        ...  ...         ...            ...   \n",
       "21592     3.0         0.0   0.0          3  ...        1530            0.0   \n",
       "21593     2.0         0.0   0.0          3  ...        2310            0.0   \n",
       "21594     2.0         0.0   0.0          3  ...        1020            0.0   \n",
       "21595     2.0         0.0   0.0          3  ...        1600            0.0   \n",
       "21596     2.0         0.0   0.0          3  ...        1020            0.0   \n",
       "\n",
       "       zipcode      lat     long  sqft_living15  sqft_lot15  \\\n",
       "0        98178  47.5112 -122.257           1340        5650   \n",
       "1        98125  47.7210 -122.319           1690        7639   \n",
       "2        98028  47.7379 -122.233           2720        8062   \n",
       "3        98136  47.5208 -122.393           1360        5000   \n",
       "4        98074  47.6168 -122.045           1800        7503   \n",
       "...        ...      ...      ...            ...         ...   \n",
       "21592    98103  47.6993 -122.346           1530        1509   \n",
       "21593    98146  47.5107 -122.362           1830        7200   \n",
       "21594    98144  47.5944 -122.299           1020        2007   \n",
       "21595    98027  47.5345 -122.069           1410        1287   \n",
       "21596    98144  47.5941 -122.299           1020        1357   \n",
       "\n",
       "       last_known_change  center_distance  water_distance  \n",
       "0                   1955        13.022012        0.678977  \n",
       "1                   1991        11.882906        2.910551  \n",
       "2                   1933        12.281023        2.327626  \n",
       "3                   1965        16.436889        0.467532  \n",
       "4                   1987        14.826499        1.726771  \n",
       "...                  ...              ...             ...  \n",
       "21592               2009        11.154088        5.346761  \n",
       "21593               2014        15.839476        1.724718  \n",
       "21594               2009         5.665915        0.925361  \n",
       "21595               2004        16.616144        2.402901  \n",
       "21596               2008         5.687846        0.918304  \n",
       "\n",
       "[21584 rows x 21 columns]"
      ]
     },
     "execution_count": 33,
     "metadata": {},
     "output_type": "execute_result"
    }
   ],
   "source": [
    "kc_data_test"
   ]
  },
  {
   "cell_type": "code",
   "execution_count": 32,
   "metadata": {},
   "outputs": [
    {
     "name": "stdout",
     "output_type": "stream",
     "text": [
      "<class 'pandas.core.frame.DataFrame'>\n",
      "Index: 21584 entries, 0 to 21596\n",
      "Data columns (total 21 columns):\n",
      " #   Column             Non-Null Count  Dtype  \n",
      "---  ------             --------------  -----  \n",
      " 0   id                 21584 non-null  int64  \n",
      " 1   price              21584 non-null  float64\n",
      " 2   bedrooms           21584 non-null  int64  \n",
      " 3   bathrooms          21584 non-null  float64\n",
      " 4   sqft_living        21584 non-null  int64  \n",
      " 5   sqft_lot           21584 non-null  int64  \n",
      " 6   floors             21584 non-null  float64\n",
      " 7   waterfront         21584 non-null  float64\n",
      " 8   view               21584 non-null  float64\n",
      " 9   condition          21584 non-null  int64  \n",
      " 10  grade              21584 non-null  int64  \n",
      " 11  sqft_above         21584 non-null  int64  \n",
      " 12  sqft_basement      21584 non-null  float64\n",
      " 13  zipcode            21584 non-null  int64  \n",
      " 14  lat                21584 non-null  float64\n",
      " 15  long               21584 non-null  float64\n",
      " 16  sqft_living15      21584 non-null  int64  \n",
      " 17  sqft_lot15         21584 non-null  int64  \n",
      " 18  last_known_change  21584 non-null  int64  \n",
      " 19  center_distance    21584 non-null  float64\n",
      " 20  water_distance     21584 non-null  float64\n",
      "dtypes: float64(10), int64(11)\n",
      "memory usage: 4.1 MB\n"
     ]
    }
   ],
   "source": [
    "kc_data_test.info()"
   ]
  },
  {
   "cell_type": "code",
   "execution_count": 29,
   "metadata": {},
   "outputs": [],
   "source": [
    "kc_data_test = preprocessor_pipe_skript.preprocess_fit_transform(kc_data_test)"
   ]
  },
  {
   "cell_type": "code",
   "execution_count": 21,
   "metadata": {},
   "outputs": [],
   "source": [
    "kc_data = preprocessor_pipe.fit_transform(kc_data)"
   ]
  },
  {
   "cell_type": "code",
   "execution_count": 1,
   "metadata": {},
   "outputs": [
    {
     "ename": "NameError",
     "evalue": "name 'kc_data' is not defined",
     "output_type": "error",
     "traceback": [
      "\u001b[0;31m---------------------------------------------------------------------------\u001b[0m",
      "\u001b[0;31mNameError\u001b[0m                                 Traceback (most recent call last)",
      "Cell \u001b[0;32mIn[1], line 1\u001b[0m\n\u001b[0;32m----> 1\u001b[0m kc_data\u001b[39m.\u001b[39minfo()\n",
      "\u001b[0;31mNameError\u001b[0m: name 'kc_data' is not defined"
     ]
    }
   ],
   "source": [
    "kc_data.info()"
   ]
  },
  {
   "attachments": {},
   "cell_type": "markdown",
   "metadata": {},
   "source": [
    "# Modeling\n",
    "\n",
    "\n",
    "Now that we have looked at the data in more depth, we can start to forecast possible new houses.\n",
    "\n",
    "Our goal is to determine the price for which new houses will sell.\n",
    "\n",
    "In this scenario, we realise that we do not yet know the true sales price until the house has been successfully sold. We can only test our model if we have such new and unknown data. However, we do not have this data at the moment.\n",
    "\n",
    "Therefore, we only work with part of the data to train our model and keep another part as test data. We consider this test set as new house sales that we want to estimate with our model. We can then compare the results of the model with the true sales prices and determine how well our model determines the true sales prices.\n",
    "To separate the dataset into training and testing data, we use a feature of Scikit-Learn: Train-Test-Split. Here we specify what our independent variables are (X) and what our predicted dependent variable is (y). We also specify what percentage of the data the test set should be. Another important parameter we submit is called \" random state\". With this parameter, our data is first shuffled before it is split into the train and the test set. This is important because the order of the data should not affect the prices of the houses (imagine if we sorted the data by price and then cut the bottom 30% for our test set, this would mean that our model would never have seen houses in that price category and would therefore be very difficult to apply to the new data). By assigning a number to the random state, we ensure that our data is mixed but always identically separated so that the results are reproducible.\n",
    "\n",
    "Before we make this important split, we remove the columns in our table that have no predictive value. It is also important to store our dependent variable (y) separately and remove any variables that could cause data leakage."
   ]
  },
  {
   "cell_type": "code",
   "execution_count": null,
   "metadata": {},
   "outputs": [],
   "source": [
    "# We have to remove these columns because of Data Leakage: price or because they do not provide prognostic information.\n",
    "drop_lst = ['price', 'sqft_price', 'date', 'delta_lat', 'delta_long',]"
   ]
  },
  {
   "cell_type": "code",
   "execution_count": null,
   "metadata": {},
   "outputs": [],
   "source": [
    "# we would like to consider all variables except the ones mentioned above\n",
    "all_features = [x for x in kc_data.columns if x not in drop_lst]"
   ]
  },
  {
   "cell_type": "code",
   "execution_count": null,
   "metadata": {},
   "outputs": [],
   "source": [
    "# X contains all descriptive variables defined above\n",
    "X = kc_data[all_features]"
   ]
  },
  {
   "cell_type": "code",
   "execution_count": null,
   "metadata": {},
   "outputs": [],
   "source": [
    "# we define y (our dependent variable): we take the price\n",
    "y = kc_data.price"
   ]
  },
  {
   "cell_type": "code",
   "execution_count": null,
   "metadata": {},
   "outputs": [],
   "source": [
    "# We separate our data into train and test data. In the process, 30 % of the data is used for the subsequent testing of the prognostic quality.\n",
    "X_train, X_test, y_train, y_test = train_test_split(X, y, test_size=0.3, random_state=42)"
   ]
  },
  {
   "cell_type": "code",
   "execution_count": null,
   "metadata": {},
   "outputs": [],
   "source": [
    "# we can look at how much data is in each dataset\n",
    "print(\"X_train (features for the model to learn from): \", X_train.shape)\n",
    "print(\"y_train (labels for the model to learn from): \", y_train.shape)\n",
    "print(\"X_test (features to test the model's accuracy against): \", X_test.shape)\n",
    "print(\"y_test (labels to test the model's accuracy with): \", y_test.shape)"
   ]
  },
  {
   "cell_type": "code",
   "execution_count": null,
   "metadata": {},
   "outputs": [],
   "source": [
    "# If we look at the first 5 lines of our training data, we see that the index is no longer sorted, it has been shuffled.\n",
    "X_train.head()"
   ]
  },
  {
   "attachments": {},
   "cell_type": "markdown",
   "metadata": {},
   "source": [
    "After these preparations, we now come to modelling. \n",
    "For this we will continue to use the scikit-learn library, in which many different algorithms are implemented.\n",
    "The procedure is always the same:\n",
    "\n",
    "- we import the algorithm from scikit-learn which we want to use.\n",
    "\n",
    "- we determine the model, often there are additional hyperparameters we have to specify\n",
    "- we determine which variables to pass to the model\n",
    "- we train the model (we call the method `.fit(X_train, y_train)` on our model)\n",
    "- we test the model with our test data and get the adjusted R^2 as metric (we call the method `.score(X_test, y_test)` on our trained model and clean up the score).\n"
   ]
  },
  {
   "cell_type": "code",
   "execution_count": null,
   "metadata": {},
   "outputs": [],
   "source": [
    "# We determine the model, there must be 2 round brackets behind the model name!\n",
    "model_lin_reg = LinearRegression()"
   ]
  },
  {
   "attachments": {},
   "cell_type": "markdown",
   "metadata": {},
   "source": [
    "Next, we determine which variables we pass to our model to determine the price of the houses.\n",
    "The simplest model calculates the price using only one variable: for example, the \"grade\" of the house."
   ]
  },
  {
   "cell_type": "code",
   "execution_count": null,
   "metadata": {},
   "outputs": [],
   "source": [
    "# We determine which variables we pass to the model\n",
    "variables = ['grade',]"
   ]
  },
  {
   "cell_type": "code",
   "execution_count": null,
   "metadata": {},
   "outputs": [],
   "source": [
    "# Training of the model\n",
    "model_lin_reg.fit(X_train[variables], y_train)"
   ]
  },
  {
   "cell_type": "code",
   "execution_count": null,
   "metadata": {},
   "outputs": [],
   "source": [
    "# We look at how well our model performs on the test data\n",
    "print('adj. R^2:', (1-(1-model_lin_reg.score(X_test[variables], y_test))*(X_test.shape[0]- 1)/(X_test.shape[0]-len(variables)-1)).round(2))"
   ]
  },
  {
   "attachments": {},
   "cell_type": "markdown",
   "metadata": {},
   "source": [
    "The adjusted R^2 indicates the percentage of variance of the target variable (price per square foot) explained by the model. Adjusted R² is a modified version of R² that has been adjusted with the number of explanatory variables. It penalises the addition of unnecessary variables and allows comparison of regression models with different numbers of explanatory variables.\n",
    "The value 1 means 100 % of the variance of the target variable could be explained by the model. The value 0 means 0 % of the variance of the target variable could be explained by the model. \n",
    "This means for our case: The variable \"grade\" can explain 43 % of the variance in the price per square foot of the houses in our test set.\n",
    "Perhaps more variables could explain more variance. \n",
    "We can look again at what variables we have:"
   ]
  },
  {
   "cell_type": "code",
   "execution_count": null,
   "metadata": {},
   "outputs": [],
   "source": [
    "# Names of the variables in the data set\n",
    "X_train.columns"
   ]
  },
  {
   "attachments": {},
   "cell_type": "markdown",
   "metadata": {},
   "source": [
    "We can use all these variables to predict the price per square foot.\n",
    "Maybe the age of the house could also play a big influence.\n",
    "Therefore, we will now try a new linear regression with these 2 variables."
   ]
  },
  {
   "cell_type": "code",
   "execution_count": null,
   "metadata": {},
   "outputs": [],
   "source": [
    "# We determine the model, there must be 2 round brackets behind the model name!\n",
    "model_lin_reg = LinearRegression()"
   ]
  },
  {
   "cell_type": "code",
   "execution_count": null,
   "metadata": {},
   "outputs": [],
   "source": [
    "# We determine which variables we pass to the model\n",
    "variables = ['grade','last_known_change']"
   ]
  },
  {
   "cell_type": "code",
   "execution_count": null,
   "metadata": {},
   "outputs": [],
   "source": [
    "# we train the model\n",
    "model_lin_reg.fit(X_train[variables], y_train)"
   ]
  },
  {
   "cell_type": "code",
   "execution_count": null,
   "metadata": {},
   "outputs": [],
   "source": [
    "# We look at how well our model performs on the test data\n",
    "print('adj. R^2:', (1-(1-model_lin_reg.score(X_test[variables], y_test))*(X_test.shape[0]- 1)/(X_test.shape[0]-len(variables)-1)).round(2))"
   ]
  },
  {
   "attachments": {},
   "cell_type": "markdown",
   "metadata": {},
   "source": [
    "We see that with this additional variable, 48% of the variance in the price per square foot could be explained."
   ]
  },
  {
   "attachments": {},
   "cell_type": "markdown",
   "metadata": {},
   "source": [
    "So far we have only looked at the linear relationships between the variables and the price. However, it is possible that the relationship is not linear, but rather quadratic. \n",
    "We can easily extend our model by squaring our variables. Thus, instead of:\n",
    "\n",
    "$price = b*(grade) + c$\n",
    "\n",
    "we can also use \n",
    "\n",
    "$price=a*(grade)^{2}+b*(grade)+c$\n",
    "\n",
    "can be obtained.\n",
    "This is a type of feature engineering. We will apply it to our complete data set and see if we can improve our model even further."
   ]
  },
  {
   "cell_type": "code",
   "execution_count": null,
   "metadata": {},
   "outputs": [],
   "source": [
    "# We want to create only polynomial variables of second order (^2)\n",
    "poly = PolynomialFeatures(2)"
   ]
  },
  {
   "cell_type": "code",
   "execution_count": null,
   "metadata": {},
   "outputs": [],
   "source": [
    "# create a copy of the Train and Test data\n",
    "X_train_poly = X_train.copy()\n",
    "X_test_poly = X_test.copy()\n",
    "\n",
    "# drop the id column\n",
    "X_train_poly = X_train_poly.drop(columns=['id'])\n",
    "X_test_poly = X_test_poly.drop(columns=['id'])"
   ]
  },
  {
   "cell_type": "code",
   "execution_count": null,
   "metadata": {},
   "outputs": [],
   "source": [
    "# We create new variables by calling poly\n",
    "X_train_sq = poly.fit_transform(X_train_poly)\n",
    "\n",
    "# We have to do the same for our test data, of course\n",
    "X_test_sq = poly.transform(X_test_poly)"
   ]
  },
  {
   "cell_type": "code",
   "execution_count": null,
   "metadata": {},
   "outputs": [],
   "source": [
    "# We determine the model, there must be 2 round brackets behind the model name!\n",
    "model_lin_reg = LinearRegression()"
   ]
  },
  {
   "cell_type": "code",
   "execution_count": null,
   "metadata": {},
   "outputs": [],
   "source": [
    "# We also train the model with squared variables\n",
    "model_lin_reg.fit(X_train_sq, y_train)"
   ]
  },
  {
   "cell_type": "code",
   "execution_count": null,
   "metadata": {},
   "outputs": [],
   "source": [
    "# We look at how well our model performs on the test data\n",
    "print('adjusted R^2:', (1-(1-model_lin_reg.score(X_test_sq, y_test))*(X_test_sq.shape[0]- 1)/(X_test_sq.shape[0]-X_test_sq.shape[1]-1)).round(2))"
   ]
  },
  {
   "attachments": {},
   "cell_type": "markdown",
   "metadata": {},
   "source": [
    "With the additional squared variables, we were able to improve our result a bit more.\n"
   ]
  },
  {
   "attachments": {},
   "cell_type": "markdown",
   "metadata": {},
   "source": [
    "With the adjusted R^2 value we have a possibility to evaluate the quality of our model, but it may be worthwhile to have a look at the real errors of the model graphically. This may help to identify systematic errors.\n",
    "For ease of interpretation, we choose the percentage price difference between our forecast and the true values."
   ]
  },
  {
   "attachments": {},
   "cell_type": "markdown",
   "metadata": {},
   "source": [
    "We see a few outliers here. We can take a closer look at the highest one. "
   ]
  },
  {
   "cell_type": "code",
   "execution_count": null,
   "metadata": {},
   "outputs": [],
   "source": [
    "# Error analysis\n",
    "# In order to better analyse the errors of our model, we create a new dataframe with the\n",
    "# columns \"price\" (the real price), as well as the latitudes and longitudes\n",
    "y_predictions = model_lin_reg.predict(X_test_sq)\n",
    "df_error = pd.DataFrame(y_test)\n",
    "df_error['latitude'] = X_test['lat']\n",
    "df_error['longitude'] = X_test['long']\n",
    "df_error['id'] = X_test['id']\n",
    "df_error.head(2)"
   ]
  },
  {
   "cell_type": "code",
   "execution_count": null,
   "metadata": {},
   "outputs": [],
   "source": [
    "# To add the predicted price as a column as well, we must first reset the index\n",
    "df_error.reset_index(inplace=True, drop=True)\n",
    "df_error.head(2)"
   ]
  },
  {
   "cell_type": "code",
   "execution_count": null,
   "metadata": {},
   "outputs": [],
   "source": [
    "# Now we can also add the predicted price as a column and calculate the difference\n",
    "df_error['price_prediction'] = y_predictions.round(2)\n",
    "df_error['price_difference'] = (df_error['price_prediction'] - df_error['price']).round(2)\n",
    "df_error['price_difference_procent'] = ((df_error['price_difference']/df_error['price'])*100).round(2)\n",
    "df_error.head(2)"
   ]
  },
  {
   "cell_type": "code",
   "execution_count": null,
   "metadata": {},
   "outputs": [],
   "source": [
    "fig = px.scatter_mapbox(df_error,\n",
    "                        lat=\"latitude\",\n",
    "                        lon=\"longitude\",\n",
    "                        hover_data=[\"price\", \"price_prediction\", 'id'],\n",
    "                        color='price_difference_procent',\n",
    "                        color_continuous_scale=['green', 'yellow', 'red'],\n",
    "                        zoom=7.7,\n",
    "                        height=400)\n",
    "fig.update_layout(mapbox_style=\"open-street-map\")\n",
    "fig.update_layout(margin={\"r\": 0, \"t\": 0, \"l\": 0, \"b\": 0})\n",
    "fig.show()"
   ]
  },
  {
   "cell_type": "code",
   "execution_count": null,
   "metadata": {},
   "outputs": [],
   "source": [
    "df_error[df_error['price_difference_procent']==df_error['price_difference_procent'].max()]"
   ]
  },
  {
   "cell_type": "code",
   "execution_count": null,
   "metadata": {},
   "outputs": [],
   "source": [
    "X_test[X_test['id']==9272202260]"
   ]
  },
  {
   "attachments": {},
   "cell_type": "markdown",
   "metadata": {},
   "source": [
    "We want to take a closer look at these houses. King County also provides very good information on this. On [this page](https://localscape.property/#kingcountyassessor/My-Property) you can search for houses by their ID and get both the neighbourhood on a map and a picture of the house.\n",
    "In the field at the top left, change the selection \"Address\" to \"Parcel ID\" and add the \"id\" of our outlier.\n",
    "\n",
    "Under \"Basic Property Characteristics\" and on the map under \"KC Aerial Images\" we see that there is no longer a house on this property. Therefore, our data is misleading and our model estimates a much higher price.\n"
   ]
  },
  {
   "attachments": {},
   "cell_type": "markdown",
   "metadata": {},
   "source": [
    "## Regularisation and hyperparameter tuning of linear regression\n",
    "\n",
    "In addition to our variables, we have also passed the squared variables to our last linear model. So we have passed a lot of variables to our model. Some may have no effect on the price at all. However, models try to extract some information from all variables. This leads to random variance in the data also being recognised as a pattern. This phenomenon is called \"overfitting\" the model to the data.\n",
    "For each algorithm there are ways to prevent this overfitting.\n",
    "\n",
    "In the case of linear regression, we force the model not to use variables for forecasting. We \"regularise\" the model. But instead of us telling the model which variables not to use, we let the model learn which variables offer the least added value and remove those variables (in the case of linear regression, variables are no longer considered if the learned coefficient (b) is zero). How much we regularise is up to us.\n",
    "[Here](https://scikit-learn.org/stable/modules/linear_model.html#elastic-net) you can find information on the ElasticNet model used.\n",
    "To find out how much we should regularize our model, we can test different values for the regularzation parameters and see which will give us the best model. For this purpose we can use [GridSearch](https://scikit-learn.org/stable/modules/grid_search.html#grid-search) with [Cross-Validation](https://scikit-learn.org/stable/modules/cross_validation.html#cross-validation).\n",
    "\n"
   ]
  },
  {
   "cell_type": "code",
   "execution_count": null,
   "metadata": {},
   "outputs": [],
   "source": [
    "# We specify which hyperparameters we want to change:\n",
    "# alpha: specifies how much we regularise:\n",
    "param_grid = {'alpha':[0.1,.5,1,5,10,],\n",
    "             'l1_ratio': [1,0.5,0]}\n",
    "\n",
    "# We determine the model, there must be 2 round brackets behind the model name!\n",
    "elastic = ElasticNet(max_iter=50000, tol=0.2)\n",
    "\n",
    "# Passing the model to a so-called parameter grid with 5-fold cross-validation\n",
    "elastic_cv= GridSearchCV(elastic,param_grid,cv=5, verbose=True,n_jobs=-1)\n",
    "\n",
    "# We train the model and optimise it via GridSearch\n",
    "elastic_cv.fit(X_train_sq,y_train)"
   ]
  },
  {
   "cell_type": "code",
   "execution_count": null,
   "metadata": {},
   "outputs": [],
   "source": [
    "# Output of the best parameters found by the GridSearch.\n",
    "elastic_cv.best_params_"
   ]
  },
  {
   "cell_type": "code",
   "execution_count": null,
   "metadata": {},
   "outputs": [],
   "source": [
    "# We train the model with the optimal hyperparameters\n",
    "elastic = ElasticNet(max_iter=50000, tol=0.2,**elastic_cv.best_params_)\n",
    "\n",
    "elastic.fit(X_train_sq, y_train)"
   ]
  },
  {
   "cell_type": "code",
   "execution_count": null,
   "metadata": {},
   "outputs": [],
   "source": [
    "# We look at how well our model performs on the test data\n",
    "adj_r2 = (1-(1-elastic.score(X_test_sq, y_test))*(X_test_sq.shape[0]- 1)/(X_test_sq.shape[0]-(X_test_sq.shape[1]-sum(elastic.coef_== 0))-1)).round(2)\n",
    "print('adjusted R^2:',adj_r2 )"
   ]
  },
  {
   "attachments": {},
   "cell_type": "markdown",
   "metadata": {},
   "source": [
    "We were able to further improve our model through hyperparameter tuning and regularisation. \n",
    "As mentioned above, regularisation eliminates variables from the forecast. This is done by giving the coefficients of the linear regression a value of zero. With the following code we can look at the learned coefficients (here only a section of the first 5 coefficients) and see that for the first variable a coefficient of zero was calculated. This variable was therefore removed by our regularisation."
   ]
  },
  {
   "cell_type": "code",
   "execution_count": null,
   "metadata": {},
   "outputs": [],
   "source": [
    "# Output of the first 5 learned coefficients of linear regression\n",
    "elastic.coef_[0:5]"
   ]
  },
  {
   "cell_type": "code",
   "execution_count": null,
   "metadata": {},
   "outputs": [],
   "source": [
    "# Error analysis\n",
    "# In order to better analyse the errors of our model, we create a new dataframe with the\n",
    "# columns \"price\" (the real price), as well as the latitudes and longitudes\n",
    "y_predictions = elastic.predict(X_test_sq)\n",
    "df_error = pd.DataFrame(y_test)\n",
    "df_error['latitude'] = X_test['lat']\n",
    "df_error['longitude'] = X_test['long']\n",
    "df_error['id'] = X_test['id']\n",
    "df_error.head(2)"
   ]
  },
  {
   "cell_type": "code",
   "execution_count": null,
   "metadata": {},
   "outputs": [],
   "source": [
    "# To add the predicted price as a column as well, we must first reset the index\n",
    "df_error.reset_index(inplace=True, drop=True)\n",
    "df_error.head(2)"
   ]
  },
  {
   "cell_type": "code",
   "execution_count": null,
   "metadata": {},
   "outputs": [],
   "source": [
    "# Now we can also add the predicted price as a column and calculate the difference \n",
    "df_error['price_prediction'] = y_predictions.round(2)\n",
    "df_error['price_difference'] = (df_error['price_prediction'] - df_error['price']).round(2)\n",
    "df_error['price_difference_procent'] = ((df_error['price_difference']/df_error['price'])*100).round(2)\n",
    "df_error.head(2)"
   ]
  },
  {
   "cell_type": "code",
   "execution_count": null,
   "metadata": {},
   "outputs": [],
   "source": [
    "fig = px.scatter_mapbox(df_error,\n",
    "                        lat=\"latitude\",\n",
    "                        lon=\"longitude\",\n",
    "                        hover_data=[\"price\", \"price_prediction\", 'id'],\n",
    "                        color='price_difference_procent',\n",
    "                        color_continuous_scale=['green', 'yellow', 'red'],\n",
    "                        zoom=7.7,\n",
    "                        height=400)\n",
    "fig.update_layout(mapbox_style=\"open-street-map\")\n",
    "fig.update_layout(margin={\"r\": 0, \"t\": 0, \"l\": 0, \"b\": 0})\n",
    "fig.show()"
   ]
  },
  {
   "cell_type": "code",
   "execution_count": null,
   "metadata": {},
   "outputs": [],
   "source": [
    "df_error[df_error['price_difference_procent']==df_error['price_difference_procent'].max()]"
   ]
  },
  {
   "cell_type": "code",
   "execution_count": null,
   "metadata": {},
   "outputs": [],
   "source": [
    "X_test[X_test['id']==5111400086]"
   ]
  },
  {
   "attachments": {},
   "cell_type": "markdown",
   "metadata": {},
   "source": [
    "Let's take a closer look at this house. King County also provides very good information about it. On [this page](https://localscape.property/#kingcountyassessor/My-Property) you can search for houses by their ID and get both the neighbourhood on a map and a picture of the house.\n",
    "In the box at the top left, they change the \"Address\" selection to \"Parcel ID\" and add the \"id\" of our outlier there.\n",
    "\n",
    "This house sold in 2018 for a price of  295,000 USD. But King County appraisers also assessed a higher price in 2014: under \"Historical Value\" they see that in 2014 the \"Total Assessed Value\" was 212,000 USD. So this house sold for about half the appraised price!\n",
    "\n"
   ]
  },
  {
   "attachments": {},
   "cell_type": "markdown",
   "metadata": {},
   "source": [
    "## Save the model\n",
    "\n",
    "We have now trained a model that can predict the price of a house in King County. We can now save this model using [skops](https://skops.readthedocs.io/en/stable/modules/classes.html#module-skops.io)."
   ]
  },
  {
   "cell_type": "code",
   "execution_count": null,
   "metadata": {},
   "outputs": [],
   "source": [
    "import skops.io as sio\n",
    "\n",
    "with open('model/model.bin', 'wb') as f_out:\n",
    "    sio.dump(elastic, f_out)"
   ]
  },
  {
   "attachments": {},
   "cell_type": "markdown",
   "metadata": {},
   "source": [
    "### Conclusion\n",
    "Despite the outliers, we succeeded in creating a model that predicts prices with an accuracy of 76%. We found that the creation of new variables, but also the squaring of these variables and the regularisation of the model play an important role in the quality of the prediction. "
   ]
  }
 ],
 "metadata": {
  "kernelspec": {
   "display_name": "Python 3.9.8 ('.venv': venv)",
   "language": "python",
   "name": "python3"
  },
  "language_info": {
   "codemirror_mode": {
    "name": "ipython",
    "version": 3
   },
   "file_extension": ".py",
   "mimetype": "text/x-python",
   "name": "python",
   "nbconvert_exporter": "python",
   "pygments_lexer": "ipython3",
   "version": "3.11.3"
  },
  "vscode": {
   "interpreter": {
    "hash": "fb7e7bd19e6b082abfa5136f7b755936d5cc9a5dcc8aebb1a765dc8cdd06fcd4"
   }
  }
 },
 "nbformat": 4,
 "nbformat_minor": 4
}
